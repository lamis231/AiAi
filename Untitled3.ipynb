{
  "nbformat": 4,
  "nbformat_minor": 0,
  "metadata": {
    "colab": {
      "provenance": []
    },
    "kernelspec": {
      "name": "python3",
      "display_name": "Python 3"
    },
    "language_info": {
      "name": "python"
    }
  },
  "cells": [
    {
      "cell_type": "code",
      "execution_count": 1,
      "metadata": {
        "colab": {
          "base_uri": "https://localhost:8080/"
        },
        "id": "e6TLeJNY2sq9",
        "outputId": "3b6f55cc-db90-4a2c-e5d5-2607f766a764"
      },
      "outputs": [
        {
          "output_type": "stream",
          "name": "stdout",
          "text": [
            "Collecting lightfm\n",
            "  Downloading lightfm-1.17.tar.gz (316 kB)\n",
            "\u001b[?25l     \u001b[90m━━━━━━━━━━━━━━━━━━━━━━━━━━━━━━━━━━━━━━━━\u001b[0m \u001b[32m0.0/316.4 kB\u001b[0m \u001b[31m?\u001b[0m eta \u001b[36m-:--:--\u001b[0m\r\u001b[2K     \u001b[91m━━━━━━━━━━━━━━━━━━━━━━\u001b[0m\u001b[91m╸\u001b[0m\u001b[90m━━━━━━━━━━━━━━━━\u001b[0m \u001b[32m184.3/316.4 kB\u001b[0m \u001b[31m5.2 MB/s\u001b[0m eta \u001b[36m0:00:01\u001b[0m\r\u001b[2K     \u001b[90m━━━━━━━━━━━━━━━━━━━━━━━━━━━━━━━━━━━━━━━\u001b[0m \u001b[32m316.4/316.4 kB\u001b[0m \u001b[31m5.5 MB/s\u001b[0m eta \u001b[36m0:00:00\u001b[0m\n",
            "\u001b[?25h  Preparing metadata (setup.py) ... \u001b[?25l\u001b[?25hdone\n",
            "Requirement already satisfied: numpy in /usr/local/lib/python3.11/dist-packages (from lightfm) (2.0.2)\n",
            "Requirement already satisfied: scipy>=0.17.0 in /usr/local/lib/python3.11/dist-packages (from lightfm) (1.16.1)\n",
            "Requirement already satisfied: requests in /usr/local/lib/python3.11/dist-packages (from lightfm) (2.32.3)\n",
            "Requirement already satisfied: scikit-learn in /usr/local/lib/python3.11/dist-packages (from lightfm) (1.6.1)\n",
            "Requirement already satisfied: charset-normalizer<4,>=2 in /usr/local/lib/python3.11/dist-packages (from requests->lightfm) (3.4.2)\n",
            "Requirement already satisfied: idna<4,>=2.5 in /usr/local/lib/python3.11/dist-packages (from requests->lightfm) (3.10)\n",
            "Requirement already satisfied: urllib3<3,>=1.21.1 in /usr/local/lib/python3.11/dist-packages (from requests->lightfm) (2.5.0)\n",
            "Requirement already satisfied: certifi>=2017.4.17 in /usr/local/lib/python3.11/dist-packages (from requests->lightfm) (2025.7.14)\n",
            "Requirement already satisfied: joblib>=1.2.0 in /usr/local/lib/python3.11/dist-packages (from scikit-learn->lightfm) (1.5.1)\n",
            "Requirement already satisfied: threadpoolctl>=3.1.0 in /usr/local/lib/python3.11/dist-packages (from scikit-learn->lightfm) (3.6.0)\n",
            "Building wheels for collected packages: lightfm\n",
            "  Building wheel for lightfm (setup.py) ... \u001b[?25l\u001b[?25hdone\n",
            "  Created wheel for lightfm: filename=lightfm-1.17-cp311-cp311-linux_x86_64.whl size=831128 sha256=d32b79f33944db0e311ef37cf61cd57f0f645acca1316e0627763fc66f6726f1\n",
            "  Stored in directory: /root/.cache/pip/wheels/b9/0d/8a/0729d2e6e3ca2a898ba55201f905da7db3f838a33df5b3fcdd\n",
            "Successfully built lightfm\n",
            "Installing collected packages: lightfm\n",
            "Successfully installed lightfm-1.17\n"
          ]
        }
      ],
      "source": [
        "!pip install lightfm\n"
      ]
    },
    {
      "cell_type": "code",
      "source": [
        "from google.colab import drive\n",
        "drive.mount('/content/drive')\n",
        "\n",
        "import pandas as pd\n",
        "df = pd.read_csv('/content/drive/MyDrive/user_event_merged_large.csv')\n",
        "\n",
        "print(\"عرض أول 5 صفوف من الداتا:\")\n",
        "print(df.head())\n"
      ],
      "metadata": {
        "colab": {
          "base_uri": "https://localhost:8080/"
        },
        "id": "Q22kqq0f29Mf",
        "outputId": "5fa94d72-c9a1-445f-de11-c61d53917818"
      },
      "execution_count": 2,
      "outputs": [
        {
          "output_type": "stream",
          "name": "stdout",
          "text": [
            "Mounted at /content/drive\n",
            "عرض أول 5 صفوف من الداتا:\n",
            "   id     interaction_date interaction_type  user_event_rating        comment  \\\n",
            "0   1  2025-08-11 13:54:00              حجز                NaN            NaN   \n",
            "1   2  2025-08-14 16:33:00            تقييم                4.0           عادي   \n",
            "2   3  2025-08-28 20:46:00              حجز                NaN            NaN   \n",
            "3   4  2025-08-07 10:32:00              حجز                NaN            NaN   \n",
            "4   5  2025-08-27 12:33:00            تقييم                3.0  الخدمة متوسطة   \n",
            "\n",
            "   user_id user_name  age gender   country  ...  start_date    end_date price  \\\n",
            "0        7       ريم   24   أنثى  السعودية  ...  2025-08-15  2025-08-31    75   \n",
            "1       26     سلطان   48   أنثى  السعودية  ...  2025-08-01  2025-08-31   120   \n",
            "2       17      غادة   21    ذكر  السعودية  ...  2025-08-08  2025-08-29    75   \n",
            "3        3      خالد   43    ذكر  السعودية  ...  2025-08-23  2025-08-29    60   \n",
            "4       28      سندس   34    ذكر  السعودية  ...  2025-08-05  2025-08-26    75   \n",
            "\n",
            "   event_avg_rating is_family  \\\n",
            "0               3.9         0   \n",
            "1               4.3         0   \n",
            "2               4.1         1   \n",
            "3               3.8         0   \n",
            "4               4.2         1   \n",
            "\n",
            "                                           image_url        city      address  \\\n",
            "0  https://placehold.co/600x400?text=فعالية+القفز...        أبها   جبل السودة   \n",
            "1       https://placehold.co/600x400?text=ركوب+الخيل  محايل عسير  طريق السودة   \n",
            "2      https://placehold.co/600x400?text=مهرجان+أبها        أبها  طريق السودة   \n",
            "3     https://placehold.co/600x400?text=مهرجان+العسل        أبها    وسط البلد   \n",
            "4      https://placehold.co/600x400?text=كافيه+الجبل   خميس مشيط    حي الراقي   \n",
            "\n",
            "  latitude  longitude  \n",
            "0  18.7349    42.2215  \n",
            "1  18.2370    42.7242  \n",
            "2  18.1489    41.9632  \n",
            "3  19.1362    42.7099  \n",
            "4  18.9061    42.7013  \n",
            "\n",
            "[5 rows x 27 columns]\n"
          ]
        }
      ]
    },
    {
      "cell_type": "code",
      "source": [
        "from sklearn.model_selection import train_test_split\n",
        "\n",
        "# تقسيم الداتا بنسبة 80% تدريب و20% اختبار\n",
        "df_train, df_test = train_test_split(df, test_size=0.2, random_state=42)\n"
      ],
      "metadata": {
        "id": "IFKeYDWi3L9m"
      },
      "execution_count": 3,
      "outputs": []
    },
    {
      "cell_type": "code",
      "source": [
        "from lightfm.data import Dataset\n",
        "\n",
        "dataset = Dataset()\n",
        "dataset.fit(users=df['user_id'].unique(), items=df['event_id'].unique())\n",
        "\n",
        "# بناء مصفوفة التدريب والاختبار\n",
        "interactions_train, _ = dataset.build_interactions(\n",
        "    [(row['user_id'], row['event_id'], row['user_event_rating'])\n",
        "     for idx, row in df_train.dropna(subset=['user_event_rating']).iterrows()]\n",
        ")\n",
        "\n",
        "interactions_test, _ = dataset.build_interactions(\n",
        "    [(row['user_id'], row['event_id'], row['user_event_rating'])\n",
        "     for idx, row in df_test.dropna(subset=['user_event_rating']).iterrows()]\n",
        ")\n"
      ],
      "metadata": {
        "id": "8lfDFdfT3RCf"
      },
      "execution_count": 4,
      "outputs": []
    },
    {
      "cell_type": "code",
      "source": [
        "from lightfm import LightFM\n",
        "\n",
        "model = LightFM(loss='warp')  # خوارزمية WARP\n",
        "model.fit(interactions_train, epochs=15, num_threads=2)\n"
      ],
      "metadata": {
        "colab": {
          "base_uri": "https://localhost:8080/"
        },
        "id": "y6i59tuT30GP",
        "outputId": "b07c788f-b6e0-4724-e259-448e5314f699"
      },
      "execution_count": 5,
      "outputs": [
        {
          "output_type": "execute_result",
          "data": {
            "text/plain": [
              "<lightfm.lightfm.LightFM at 0x7bf6089cc290>"
            ]
          },
          "metadata": {},
          "execution_count": 5
        }
      ]
    },
    {
      "cell_type": "code",
      "source": [
        "from lightfm.evaluation import precision_at_k, recall_at_k\n",
        "\n",
        "prec = precision_at_k(model, interactions_test, k=5).mean()\n",
        "rec = recall_at_k(model, interactions_test, k=5).mean()\n",
        "print(f\"دقة المودل (Precision@5): {prec:.2f}\")\n",
        "print(f\"استرجاع المودل (Recall@5): {rec:.2f}\")\n"
      ],
      "metadata": {
        "colab": {
          "base_uri": "https://localhost:8080/"
        },
        "id": "OnnbhOkK4Itz",
        "outputId": "4211cd46-6038-4bcc-b4ee-9d27880afbcb"
      },
      "execution_count": 6,
      "outputs": [
        {
          "output_type": "stream",
          "name": "stdout",
          "text": [
            "دقة المودل (Precision@5): 0.09\n",
            "استرجاع المودل (Recall@5): 0.32\n"
          ]
        }
      ]
    },
    {
      "cell_type": "code",
      "source": [
        "import numpy as np\n",
        "\n",
        "user_ids = df['user_id'].unique()\n",
        "event_ids = df['event_id'].unique()\n",
        "\n",
        "def recommend_events(model, dataset, user_id, event_ids, top_n=5):\n",
        "    n_users, n_items = dataset.interactions_shape()\n",
        "    user_index = list(user_ids).index(user_id)\n",
        "    scores = model.predict(user_index, np.arange(n_items))\n",
        "    top_items = np.argsort(-scores)[:top_n]\n",
        "    recommended_events = [list(event_ids)[i] for i in top_items]\n",
        "    return recommended_events\n",
        "\n",
        "# مثال: توصية أفضل فعاليات للمستخدم رقم 7 (أو أي رقم في user_ids)\n",
        "user_id = 7\n",
        "recommended = recommend_events(model, dataset, user_id, event_ids, top_n=5)\n",
        "print(f\"\\nأفضل الفعاليات المقترحة للمستخدم {user_id}:\")\n",
        "for eid in recommended:\n",
        "    event_name = df[df['event_id'] == eid]['event_name'].iloc[0]\n",
        "    print(f\"- {event_name}\")\n"
      ],
      "metadata": {
        "colab": {
          "base_uri": "https://localhost:8080/"
        },
        "id": "tMUvsyQ54Qp_",
        "outputId": "66a6c288-2c3b-4e1e-fbb2-19d0a4471790"
      },
      "execution_count": 7,
      "outputs": [
        {
          "output_type": "stream",
          "name": "stdout",
          "text": [
            "\n",
            "أفضل الفعاليات المقترحة للمستخدم 7:\n",
            "- ركوب الخيل\n",
            "- كيدز بارك\n",
            "- مهرجان أبها\n",
            "- كافيه الريم\n",
            "- مطعم خيرات عسير\n"
          ]
        }
      ]
    },
    {
      "cell_type": "code",
      "source": [
        "print(user_ids)\n"
      ],
      "metadata": {
        "colab": {
          "base_uri": "https://localhost:8080/"
        },
        "id": "0qvml0djNW_x",
        "outputId": "27470a97-6d03-49a0-d0fb-29de45d86328"
      },
      "execution_count": 8,
      "outputs": [
        {
          "output_type": "stream",
          "name": "stdout",
          "text": [
            "[ 7 26 17  3 28 30 25 15 24 21  5 29 14  2 27 16 12 10 22  8  9 23 19  6\n",
            " 20 18 11  1  4 13]\n"
          ]
        }
      ]
    },
    {
      "cell_type": "code",
      "source": [
        "import numpy as np\n",
        "\n",
        "user_ids = df['user_id'].unique()\n",
        "event_ids = df['event_id'].unique()\n",
        "\n",
        "def recommend_events(model, dataset, user_id, event_ids, top_n=5):\n",
        "    n_users, n_items = dataset.interactions_shape()\n",
        "    user_index = list(user_ids).index(user_id)\n",
        "    scores = model.predict(user_index, np.arange(n_items))\n",
        "    top_items = np.argsort(-scores)[:top_n]\n",
        "    recommended_events = [list(event_ids)[i] for i in top_items]\n",
        "    return recommended_events\n",
        "\n",
        "# مثال: توصية أفضل فعاليات للمستخدم رقم 7 (أو أي رقم في user_ids)\n",
        "user_id = 30\n",
        "recommended = recommend_events(model, dataset, user_id, event_ids, top_n=5)\n",
        "print(f\"\\nأفضل الفعاليات المقترحة للمستخدم {user_id}:\")\n",
        "for eid in recommended:\n",
        "    event_name = df[df['event_id'] == eid]['event_name'].iloc[0]\n",
        "    print(f\"- {event_name}\")\n"
      ],
      "metadata": {
        "colab": {
          "base_uri": "https://localhost:8080/"
        },
        "id": "JYUTQSD3Nb-z",
        "outputId": "5b4370b1-8f6f-4f3c-f973-79b407bd151e"
      },
      "execution_count": 9,
      "outputs": [
        {
          "output_type": "stream",
          "name": "stdout",
          "text": [
            "\n",
            "أفضل الفعاليات المقترحة للمستخدم 30:\n",
            "- ركوب الخيل\n",
            "- مهرجان أبها\n",
            "- رحلة الشلال\n",
            "- قرية المفتاحة\n",
            "- فعالية القفز الحر\n"
          ]
        }
      ]
    },
    {
      "cell_type": "code",
      "source": [
        "import numpy as np\n",
        "\n",
        "user_ids = df['user_id'].unique()\n",
        "event_ids = df['event_id'].unique()\n",
        "\n",
        "def recommend_events(model, dataset, user_id, event_ids, top_n=5):\n",
        "    n_users, n_items = dataset.interactions_shape()\n",
        "    user_index = list(user_ids).index(user_id)\n",
        "    scores = model.predict(user_index, np.arange(n_items))\n",
        "    top_items = np.argsort(-scores)[:top_n]\n",
        "    recommended_events = [list(event_ids)[i] for i in top_items]\n",
        "    return recommended_events\n",
        "\n",
        "# مثال: توصية أفضل فعاليات للمستخدم رقم 7 (أو أي رقم في user_ids)\n",
        "user_id = 26\n",
        "recommended = recommend_events(model, dataset, user_id, event_ids, top_n=5)\n",
        "print(f\"\\nأفضل الفعاليات المقترحة للمستخدم {user_id}:\")\n",
        "for eid in recommended:\n",
        "    event_name = df[df['event_id'] == eid]['event_name'].iloc[0]\n",
        "    print(f\"- {event_name}\")"
      ],
      "metadata": {
        "colab": {
          "base_uri": "https://localhost:8080/"
        },
        "id": "sY_3dFYnOhM1",
        "outputId": "93a355d6-fce1-40d7-b677-2672ad534ea0"
      },
      "execution_count": 10,
      "outputs": [
        {
          "output_type": "stream",
          "name": "stdout",
          "text": [
            "\n",
            "أفضل الفعاليات المقترحة للمستخدم 26:\n",
            "- رحلة الشلال\n",
            "- كافيه الجبل\n",
            "- ركوب الخيل\n",
            "- مهرجان أبها\n",
            "- مهرجان الورد\n"
          ]
        }
      ]
    },
    {
      "cell_type": "code",
      "source": [
        "import matplotlib.pyplot as plt\n",
        "from lightfm.evaluation import precision_at_k, recall_at_k\n",
        "\n",
        "ks = [1, 3, 5, 7, 10]\n",
        "precisions = [precision_at_k(model, interactions_test, k=k).mean() for k in ks]\n",
        "recalls = [recall_at_k(model, interactions_test, k=k).mean() for k in ks]\n",
        "\n",
        "plt.figure(figsize=(8, 5))\n",
        "plt.plot(ks, precisions, marker='o', label='Precision@K', linewidth=2)\n",
        "plt.plot(ks, recalls, marker='s', label='Recall@K', linewidth=2)\n",
        "plt.xlabel('K (Number of Recommendations per User)', fontsize=12)\n",
        "plt.ylabel('Score', fontsize=12)\n",
        "plt.title('Model Precision and Recall at different K', fontsize=14, fontweight='bold')\n",
        "plt.xticks(ks)\n",
        "plt.legend(fontsize=12)\n",
        "plt.grid(True, linestyle='--', alpha=0.6)\n",
        "plt.tight_layout()\n",
        "plt.show()\n"
      ],
      "metadata": {
        "id": "Py5KrakT69ni",
        "outputId": "b922683d-2a4e-4b91-9fbb-84072bc8d244",
        "colab": {
          "base_uri": "https://localhost:8080/",
          "height": 469
        }
      },
      "execution_count": 11,
      "outputs": [
        {
          "output_type": "display_data",
          "data": {
            "text/plain": [
              "<Figure size 800x500 with 1 Axes>"
            ],
            "image/png": "[encoded data removed]"
          },
          "metadata": {}
        }
      ]
    }
  ]
}